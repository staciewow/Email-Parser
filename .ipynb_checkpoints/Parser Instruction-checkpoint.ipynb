{
 "cells": [
  {
   "cell_type": "code",
   "execution_count": 2,
   "metadata": {},
   "outputs": [],
   "source": [
    "import pandas as pd\n",
    "\n",
    "data = pd.read_excel('data-text.xlsx')"
   ]
  },
  {
   "cell_type": "code",
   "execution_count": 4,
   "metadata": {
    "collapsed": true
   },
   "outputs": [],
   "source": [
    "email = data['Text'][0]"
   ]
  },
  {
   "cell_type": "code",
   "execution_count": 5,
   "metadata": {},
   "outputs": [
    {
     "data": {
      "text/plain": [
       "'Subject Line: A Big Thanks!\\n\\nHi Gayle,\\n\\nLet me take this opportunity to thank you for choosing our company to provide you with the best internet services. We are proud of our satisfied clientele and look forward to many years of working together.\\n\\nIf you have any questions about our company we invite you to call us immediately at 213-546-8790 and we will be happy to assist you.\\n\\nOnce again, thank you for your business.\\n\\nBest regards,\\n\\nJohn Smith |Senior Salesman\\n111 Great Company Rd, Suit #999 | Washington DC 20010\\nBusiness Phone: 213-546-8790 | Business Email: john.smith@greatcompany.com'"
      ]
     },
     "execution_count": 5,
     "metadata": {},
     "output_type": "execute_result"
    }
   ],
   "source": [
    "email"
   ]
  },
  {
   "cell_type": "code",
   "execution_count": 6,
   "metadata": {
    "collapsed": true
   },
   "outputs": [],
   "source": [
    "email_sent = email.strip().split('\\n')"
   ]
  },
  {
   "cell_type": "code",
   "execution_count": 7,
   "metadata": {},
   "outputs": [
    {
     "data": {
      "text/plain": [
       "['Subject Line: A Big Thanks!',\n",
       " '',\n",
       " 'Hi Gayle,',\n",
       " '',\n",
       " 'Let me take this opportunity to thank you for choosing our company to provide you with the best internet services. We are proud of our satisfied clientele and look forward to many years of working together.',\n",
       " '',\n",
       " 'If you have any questions about our company we invite you to call us immediately at 213-546-8790 and we will be happy to assist you.',\n",
       " '',\n",
       " 'Once again, thank you for your business.',\n",
       " '',\n",
       " 'Best regards,',\n",
       " '',\n",
       " 'John Smith |Senior Salesman',\n",
       " '111 Great Company Rd, Suit #999 | Washington DC 20010',\n",
       " 'Business Phone: 213-546-8790 | Business Email: john.smith@greatcompany.com']"
      ]
     },
     "execution_count": 7,
     "metadata": {},
     "output_type": "execute_result"
    }
   ],
   "source": [
    "email_sent"
   ]
  },
  {
   "cell_type": "code",
   "execution_count": 8,
   "metadata": {
    "collapsed": true
   },
   "outputs": [],
   "source": [
    "from textblob import TextBlob\n",
    "\n",
    "for item in email_sent:\n",
    "    label_list = []\n",
    "    tag = TextBlob(item).tags\n",
    "    for i in range(0, len(tag)):\n",
    "        label = tag[i][1]\n",
    "        label_list.append(label)"
   ]
  },
  {
   "cell_type": "code",
   "execution_count": 9,
   "metadata": {},
   "outputs": [
    {
     "data": {
      "text/plain": [
       "[('Once', 'RB'),\n",
       " ('again', 'RB'),\n",
       " ('thank', 'NN'),\n",
       " ('you', 'PRP'),\n",
       " ('for', 'IN'),\n",
       " ('your', 'PRP$'),\n",
       " ('business', 'NN')]"
      ]
     },
     "execution_count": 9,
     "metadata": {},
     "output_type": "execute_result"
    }
   ],
   "source": [
    "TextBlob(email_sent[-7]).tags"
   ]
  },
  {
   "cell_type": "code",
   "execution_count": null,
   "metadata": {
    "collapsed": true
   },
   "outputs": [],
   "source": []
  }
 ],
 "metadata": {
  "kernelspec": {
   "display_name": "Python 3",
   "language": "python",
   "name": "python3"
  },
  "language_info": {
   "codemirror_mode": {
    "name": "ipython",
    "version": 3
   },
   "file_extension": ".py",
   "mimetype": "text/x-python",
   "name": "python",
   "nbconvert_exporter": "python",
   "pygments_lexer": "ipython3",
   "version": "3.6.3"
  }
 },
 "nbformat": 4,
 "nbformat_minor": 2
}
