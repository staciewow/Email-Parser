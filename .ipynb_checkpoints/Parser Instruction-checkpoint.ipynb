{
 "cells": [
  {
   "cell_type": "code",
   "execution_count": 2,
   "metadata": {
    "collapsed": true
   },
   "outputs": [],
   "source": [
    "import pandas as pd\n",
    "\n",
    "data = pd.read_excel('data-text.xlsx')"
   ]
  },
  {
   "cell_type": "markdown",
   "metadata": {},
   "source": [
    "### Applying on an Email "
   ]
  },
  {
   "cell_type": "code",
   "execution_count": 4,
   "metadata": {
    "collapsed": true
   },
   "outputs": [],
   "source": [
    "email = data['Text'][0]"
   ]
  },
  {
   "cell_type": "code",
   "execution_count": 5,
   "metadata": {},
   "outputs": [
    {
     "data": {
      "text/plain": [
       "'Subject Line: A Big Thanks!\\n\\nHi Gayle,\\n\\nLet me take this opportunity to thank you for choosing our company to provide you with the best internet services. We are proud of our satisfied clientele and look forward to many years of working together.\\n\\nIf you have any questions about our company we invite you to call us immediately at 213-546-8790 and we will be happy to assist you.\\n\\nOnce again, thank you for your business.\\n\\nBest regards,\\n\\nJohn Smith |Senior Salesman\\n111 Great Company Rd, Suit #999 | Washington DC 20010\\nBusiness Phone: 213-546-8790 | Business Email: john.smith@greatcompany.com'"
      ]
     },
     "execution_count": 5,
     "metadata": {},
     "output_type": "execute_result"
    }
   ],
   "source": [
    "email"
   ]
  },
  {
   "cell_type": "code",
   "execution_count": 6,
   "metadata": {
    "collapsed": true
   },
   "outputs": [],
   "source": [
    "email_sent = email.strip().split('\\n')"
   ]
  },
  {
   "cell_type": "code",
   "execution_count": 7,
   "metadata": {},
   "outputs": [
    {
     "data": {
      "text/plain": [
       "['Subject Line: A Big Thanks!',\n",
       " '',\n",
       " 'Hi Gayle,',\n",
       " '',\n",
       " 'Let me take this opportunity to thank you for choosing our company to provide you with the best internet services. We are proud of our satisfied clientele and look forward to many years of working together.',\n",
       " '',\n",
       " 'If you have any questions about our company we invite you to call us immediately at 213-546-8790 and we will be happy to assist you.',\n",
       " '',\n",
       " 'Once again, thank you for your business.',\n",
       " '',\n",
       " 'Best regards,',\n",
       " '',\n",
       " 'John Smith |Senior Salesman',\n",
       " '111 Great Company Rd, Suit #999 | Washington DC 20010',\n",
       " 'Business Phone: 213-546-8790 | Business Email: john.smith@greatcompany.com']"
      ]
     },
     "execution_count": 7,
     "metadata": {},
     "output_type": "execute_result"
    }
   ],
   "source": [
    "email_sent"
   ]
  },
  {
   "cell_type": "code",
   "execution_count": 8,
   "metadata": {
    "collapsed": true
   },
   "outputs": [],
   "source": [
    "from textblob import TextBlob\n",
    "\n",
    "for item in email_sent:\n",
    "    label_list = []\n",
    "    tag = TextBlob(item).tags\n",
    "    for i in range(0, len(tag)):\n",
    "        label = tag[i][1]\n",
    "        label_list.append(label)"
   ]
  },
  {
   "cell_type": "code",
   "execution_count": 9,
   "metadata": {},
   "outputs": [
    {
     "data": {
      "text/plain": [
       "[('Once', 'RB'),\n",
       " ('again', 'RB'),\n",
       " ('thank', 'NN'),\n",
       " ('you', 'PRP'),\n",
       " ('for', 'IN'),\n",
       " ('your', 'PRP$'),\n",
       " ('business', 'NN')]"
      ]
     },
     "execution_count": 9,
     "metadata": {},
     "output_type": "execute_result"
    }
   ],
   "source": [
    "TextBlob(email_sent[-7]).tags"
   ]
  },
  {
   "cell_type": "code",
   "execution_count": 29,
   "metadata": {
    "collapsed": true
   },
   "outputs": [],
   "source": [
    "import numpy as np\n",
    "\n",
    "verb_list = [\"VBN\", \"VBG\", \"VB\", \"VBP\", \"VBZ\", \"VBD\"]\n",
    "labels = []\n",
    "verb_count = []\n",
    "verb_per_sent = []\n",
    "\n",
    "for a in range(0, len(email_sent)):\n",
    "    item = email_sent[a]\n",
    "    label_list = []\n",
    "    tag = TextBlob(item).tags\n",
    "    num_of_verb = []\n",
    "    for i in range(0, len(tag)):\n",
    "        label = tag[i][1]\n",
    "        label_list.append(label)\n",
    "        count = np.sum(label in verb_list)\n",
    "        num_of_verb.append(count)\n",
    "        \n",
    "    numberofverb = np.sum(num_of_verb)\n",
    "    verb_per_sent.append(numberofverb)\n",
    "    labels.append(verb_per_sent)"
   ]
  },
  {
   "cell_type": "code",
   "execution_count": 30,
   "metadata": {},
   "outputs": [
    {
     "data": {
      "text/plain": [
       "[0, 0.0, 0, 0.0, 8, 0.0, 5, 0.0, 0, 0.0, 0, 0.0, 0, 0, 0]"
      ]
     },
     "execution_count": 30,
     "metadata": {},
     "output_type": "execute_result"
    }
   ],
   "source": [
    "verb_per_sent"
   ]
  },
  {
   "cell_type": "code",
   "execution_count": 31,
   "metadata": {
    "collapsed": true
   },
   "outputs": [],
   "source": [
    "real_email_sent = []\n",
    "\n",
    "for i in range(0, len(verb_per_sent)):\n",
    "    if verb_per_sent[i] >= 2:\n",
    "        real_email_sent.append(email_sent[i])"
   ]
  },
  {
   "cell_type": "code",
   "execution_count": 32,
   "metadata": {},
   "outputs": [
    {
     "data": {
      "text/plain": [
       "['Let me take this opportunity to thank you for choosing our company to provide you with the best internet services. We are proud of our satisfied clientele and look forward to many years of working together.',\n",
       " 'If you have any questions about our company we invite you to call us immediately at 213-546-8790 and we will be happy to assist you.']"
      ]
     },
     "execution_count": 32,
     "metadata": {},
     "output_type": "execute_result"
    }
   ],
   "source": [
    "real_email_sent"
   ]
  },
  {
   "cell_type": "markdown",
   "metadata": {},
   "source": [
    "### Applying on a Ticket "
   ]
  },
  {
   "cell_type": "code",
   "execution_count": 17,
   "metadata": {
    "collapsed": true
   },
   "outputs": [],
   "source": [
    "ticket = data['Text'][1]"
   ]
  },
  {
   "cell_type": "code",
   "execution_count": 18,
   "metadata": {},
   "outputs": [
    {
     "data": {
      "text/plain": [
       "\"Order Number: JMHG8759JGEN08 \\nEmployeeID: 123445\\nDepartmentID: Women's Shoes\\nCustomer Name: Jen Smith\\nCustomer Email: jen.smith@gmail.com\\nProduct Num: 3NKO549JN90\\nCall Time: Sept 29th, 2018 9:45PM\\nCall Reasons: Customer put the wrong shipping address, and wanted to check gift card balance\\nSolutions: corrected the shipping address; and acknowledge the customer that we are not able to check gift card balance via phone, but customers are allow to check via our website.\\nCustomer Service Satisfaction Rate: 10\""
      ]
     },
     "execution_count": 18,
     "metadata": {},
     "output_type": "execute_result"
    }
   ],
   "source": [
    "ticket"
   ]
  },
  {
   "cell_type": "code",
   "execution_count": 19,
   "metadata": {
    "collapsed": true
   },
   "outputs": [],
   "source": [
    "ticket_sent = ticket.strip().split('\\n')"
   ]
  },
  {
   "cell_type": "code",
   "execution_count": 20,
   "metadata": {},
   "outputs": [
    {
     "data": {
      "text/plain": [
       "['Order Number: JMHG8759JGEN08 ',\n",
       " 'EmployeeID: 123445',\n",
       " \"DepartmentID: Women's Shoes\",\n",
       " 'Customer Name: Jen Smith',\n",
       " 'Customer Email: jen.smith@gmail.com',\n",
       " 'Product Num: 3NKO549JN90',\n",
       " 'Call Time: Sept 29th, 2018 9:45PM',\n",
       " 'Call Reasons: Customer put the wrong shipping address, and wanted to check gift card balance',\n",
       " 'Solutions: corrected the shipping address; and acknowledge the customer that we are not able to check gift card balance via phone, but customers are allow to check via our website.',\n",
       " 'Customer Service Satisfaction Rate: 10']"
      ]
     },
     "execution_count": 20,
     "metadata": {},
     "output_type": "execute_result"
    }
   ],
   "source": [
    "ticket_sent"
   ]
  },
  {
   "cell_type": "code",
   "execution_count": 37,
   "metadata": {
    "collapsed": true
   },
   "outputs": [],
   "source": [
    "from textblob import TextBlob\n",
    "\n",
    "for item in ticket_sent:\n",
    "    label_list = []\n",
    "    tag = TextBlob(item).tags\n",
    "    for i in range(0, len(tag)):\n",
    "        label = tag[i][1]\n",
    "        label_list.append(label)"
   ]
  },
  {
   "cell_type": "code",
   "execution_count": 38,
   "metadata": {},
   "outputs": [
    {
     "data": {
      "text/plain": [
       "[('Customer', 'NNP'),\n",
       " ('Service', 'NNP'),\n",
       " ('Satisfaction', 'NNP'),\n",
       " ('Rate', 'NNP'),\n",
       " ('10', 'CD')]"
      ]
     },
     "execution_count": 38,
     "metadata": {},
     "output_type": "execute_result"
    }
   ],
   "source": [
    "TextBlob(ticket_sent[-1]).tags"
   ]
  },
  {
   "cell_type": "code",
   "execution_count": 39,
   "metadata": {
    "collapsed": true
   },
   "outputs": [],
   "source": [
    "import numpy as np\n",
    "\n",
    "verb_list = [\"VBN\", \"VBG\", \"VB\", \"VBP\", \"VBZ\", \"VBD\"]\n",
    "labels = []\n",
    "verb_count = []\n",
    "verb_per_sent = []\n",
    "\n",
    "for a in range(0, len(ticket_sent)):\n",
    "    item = ticket_sent[a]\n",
    "    label_list = []\n",
    "    tag = TextBlob(item).tags\n",
    "    num_of_verb = []\n",
    "    for i in range(0, len(tag)):\n",
    "        label = tag[i][1]\n",
    "        label_list.append(label)\n",
    "        count = np.sum(label in verb_list)\n",
    "        num_of_verb.append(count)\n",
    "        \n",
    "    numberofverb = np.sum(num_of_verb)\n",
    "    verb_per_sent.append(numberofverb)\n",
    "    labels.append(verb_per_sent)"
   ]
  },
  {
   "cell_type": "code",
   "execution_count": 40,
   "metadata": {},
   "outputs": [
    {
     "data": {
      "text/plain": [
       "[0, 0, 0, 0, 0, 0, 0, 3, 6, 0]"
      ]
     },
     "execution_count": 40,
     "metadata": {},
     "output_type": "execute_result"
    }
   ],
   "source": [
    "verb_per_sent"
   ]
  },
  {
   "cell_type": "code",
   "execution_count": 43,
   "metadata": {
    "collapsed": true
   },
   "outputs": [],
   "source": [
    "real_ticket_sent = []\n",
    "\n",
    "for i in range(0, len(verb_per_sent)):\n",
    "    if verb_per_sent[i] >= 2:\n",
    "        real_ticket_sent.append(ticket_sent[i])"
   ]
  },
  {
   "cell_type": "code",
   "execution_count": 44,
   "metadata": {},
   "outputs": [
    {
     "data": {
      "text/plain": [
       "['Call Reasons: Customer put the wrong shipping address, and wanted to check gift card balance',\n",
       " 'Solutions: corrected the shipping address; and acknowledge the customer that we are not able to check gift card balance via phone, but customers are allow to check via our website.']"
      ]
     },
     "execution_count": 44,
     "metadata": {},
     "output_type": "execute_result"
    }
   ],
   "source": [
    "real_ticket_sent"
   ]
  },
  {
   "cell_type": "code",
   "execution_count": null,
   "metadata": {
    "collapsed": true
   },
   "outputs": [],
   "source": []
  }
 ],
 "metadata": {
  "kernelspec": {
   "display_name": "Python 3",
   "language": "python",
   "name": "python3"
  },
  "language_info": {
   "codemirror_mode": {
    "name": "ipython",
    "version": 3
   },
   "file_extension": ".py",
   "mimetype": "text/x-python",
   "name": "python",
   "nbconvert_exporter": "python",
   "pygments_lexer": "ipython3",
   "version": "3.6.3"
  }
 },
 "nbformat": 4,
 "nbformat_minor": 2
}
